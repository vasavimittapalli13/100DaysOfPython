{
 "cells": [
  {
   "cell_type": "markdown",
   "id": "e48e8eb1",
   "metadata": {},
   "source": [
    "#### print()\n",
    "\n",
    "The print() function prints the specified message to the screen."
   ]
  },
  {
   "cell_type": "markdown",
   "id": "9f2ee739",
   "metadata": {},
   "source": [
    "syntax:\n",
    "- print(text, sep=separator, end=end)\n",
    "- text=Any text, and as many as you like. Will be converted to string before printed\n",
    "- sep='separator'\tOptional. Specify how to separate the objects, if there is more than one. Default is ' '\n",
    "- end='end'\tOptional. Specify what to print at the end. Default is '\\n' (line feed)\n"
   ]
  },
  {
   "cell_type": "code",
   "execution_count": 1,
   "id": "e8879b79",
   "metadata": {},
   "outputs": [
    {
     "name": "stdout",
     "output_type": "stream",
     "text": [
      "Hello world!\n"
     ]
    }
   ],
   "source": [
    "print('Hello world!')"
   ]
  },
  {
   "cell_type": "code",
   "execution_count": 2,
   "id": "415d1084",
   "metadata": {},
   "outputs": [
    {
     "ename": "SyntaxError",
     "evalue": "unterminated string literal (detected at line 1) (784925064.py, line 1)",
     "output_type": "error",
     "traceback": [
      "\u001b[1;36m  Cell \u001b[1;32mIn[2], line 1\u001b[1;36m\u001b[0m\n\u001b[1;33m    print('Hello world)\u001b[0m\n\u001b[1;37m          ^\u001b[0m\n\u001b[1;31mSyntaxError\u001b[0m\u001b[1;31m:\u001b[0m unterminated string literal (detected at line 1)\n"
     ]
    }
   ],
   "source": [
    "print('Hello world)"
   ]
  },
  {
   "cell_type": "code",
   "execution_count": 3,
   "id": "624f9f69",
   "metadata": {},
   "outputs": [
    {
     "ename": "SyntaxError",
     "evalue": "incomplete input (3907806865.py, line 1)",
     "output_type": "error",
     "traceback": [
      "\u001b[1;36m  Cell \u001b[1;32mIn[3], line 1\u001b[1;36m\u001b[0m\n\u001b[1;33m    print('Hello world'\u001b[0m\n\u001b[1;37m                       ^\u001b[0m\n\u001b[1;31mSyntaxError\u001b[0m\u001b[1;31m:\u001b[0m incomplete input\n"
     ]
    }
   ],
   "source": [
    "print('Hello world'"
   ]
  },
  {
   "cell_type": "code",
   "execution_count": 4,
   "id": "b039e472",
   "metadata": {},
   "outputs": [
    {
     "ename": "IndentationError",
     "evalue": "unexpected indent (52192006.py, line 2)",
     "output_type": "error",
     "traceback": [
      "\u001b[1;36m  Cell \u001b[1;32mIn[4], line 2\u001b[1;36m\u001b[0m\n\u001b[1;33m    print('Hello world!')\u001b[0m\n\u001b[1;37m    ^\u001b[0m\n\u001b[1;31mIndentationError\u001b[0m\u001b[1;31m:\u001b[0m unexpected indent\n"
     ]
    }
   ],
   "source": [
    "print(\"Hello\")\n",
    "   print('Hello world!')"
   ]
  },
  {
   "cell_type": "code",
   "execution_count": 5,
   "id": "fa6a6f3e",
   "metadata": {},
   "outputs": [
    {
     "name": "stdout",
     "output_type": "stream",
     "text": [
      "Welcome\n",
      "Welcome\n",
      "Welcome\n"
     ]
    }
   ],
   "source": [
    "print('Welcome')\n",
    "print('Welcome')\n",
    "print('Welcome')"
   ]
  },
  {
   "cell_type": "code",
   "execution_count": 6,
   "id": "634db11e",
   "metadata": {},
   "outputs": [
    {
     "name": "stdout",
     "output_type": "stream",
     "text": [
      "Hello*world!\n"
     ]
    }
   ],
   "source": [
    "print('Hello', 'world!',sep='*')"
   ]
  },
  {
   "cell_type": "code",
   "execution_count": 7,
   "id": "47349737",
   "metadata": {},
   "outputs": [
    {
     "name": "stdout",
     "output_type": "stream",
     "text": [
      "Hello______world!\n"
     ]
    }
   ],
   "source": [
    "print('Hello', 'world!',sep='______')"
   ]
  },
  {
   "cell_type": "code",
   "execution_count": 8,
   "id": "c9e3efe5",
   "metadata": {},
   "outputs": [
    {
     "name": "stdout",
     "output_type": "stream",
     "text": [
      "Hello&&&&&&world!############"
     ]
    }
   ],
   "source": [
    "print('Hello', 'world!',sep='&&&&&&',end='############')"
   ]
  },
  {
   "cell_type": "code",
   "execution_count": 9,
   "id": "b30d2e06",
   "metadata": {},
   "outputs": [
    {
     "name": "stdout",
     "output_type": "stream",
     "text": [
      "Hello*world! "
     ]
    }
   ],
   "source": [
    "print('Hello', 'world!',sep='*',end=' ')"
   ]
  },
  {
   "cell_type": "code",
   "execution_count": 10,
   "id": "76a6f271",
   "metadata": {},
   "outputs": [
    {
     "name": "stdout",
     "output_type": "stream",
     "text": [
      "Vasavi\n",
      "Vasavi\n",
      "Vasavi\n"
     ]
    }
   ],
   "source": [
    "print('Vasavi')\n",
    "print('Vasavi')\n",
    "print('Vasavi')\n"
   ]
  },
  {
   "cell_type": "markdown",
   "id": "b6df2d3e",
   "metadata": {},
   "source": [
    "The new line character in Python is used to mark the end of a line and the beginning of a new line. Knowing how to use it is essential if you want to print output to the console and work with files."
   ]
  },
  {
   "cell_type": "code",
   "execution_count": 11,
   "id": "0d2eea7b",
   "metadata": {},
   "outputs": [
    {
     "name": "stdout",
     "output_type": "stream",
     "text": [
      "Vasavi\n",
      "Vasavi\n",
      "Vasavi\n"
     ]
    }
   ],
   "source": [
    "\n",
    "print('Vasavi\\nVasavi\\nVasavi')"
   ]
  },
  {
   "cell_type": "markdown",
   "id": "b79a055e",
   "metadata": {},
   "source": [
    "#### Variables\n",
    "Variables is a concept in programming that allows us to give a label to a piece of data so that we can refer or reference that data using the chosen variable name.\n",
    "\n",
    "the rules of variable naming in Python:\n",
    "\n",
    "- Make sure your variable names are descriptive\n",
    "- Don't have spaces between words\n",
    "- Don't start with numbers\n",
    "- Don't use special words like print or input"
   ]
  },
  {
   "cell_type": "code",
   "execution_count": 17,
   "id": "5b9a25e3",
   "metadata": {},
   "outputs": [
    {
     "name": "stdout",
     "output_type": "stream",
     "text": [
      "What is your name?vasavi\n",
      "vasavi\n"
     ]
    }
   ],
   "source": [
    "name=input('What is your name?')\n",
    "print(name)"
   ]
  },
  {
   "cell_type": "code",
   "execution_count": 13,
   "id": "c6f96f17",
   "metadata": {},
   "outputs": [
    {
     "data": {
      "text/plain": [
       "0"
      ]
     },
     "execution_count": 13,
     "metadata": {},
     "output_type": "execute_result"
    }
   ],
   "source": [
    "len(name)"
   ]
  },
  {
   "cell_type": "code",
   "execution_count": 18,
   "id": "9843886a",
   "metadata": {},
   "outputs": [
    {
     "name": "stdout",
     "output_type": "stream",
     "text": [
      "What is your name?vasavi\n",
      "6\n"
     ]
    }
   ],
   "source": [
    "print(len(input('What is your name?')))"
   ]
  },
  {
   "cell_type": "markdown",
   "id": "348e846f",
   "metadata": {},
   "source": [
    "### Day-1 Project: Band Name Generator"
   ]
  },
  {
   "cell_type": "markdown",
   "id": "7d2b9d6e",
   "metadata": {},
   "source": [
    "Create a greeting for your program.\n",
    "Ask the user for the city that they grew up in and store it in a variable.\n",
    "Ask the user for the name of a pet and store it in a variable.\n",
    "Combine the name of their city and pet and show them their band name"
   ]
  },
  {
   "cell_type": "code",
   "execution_count": 16,
   "id": "f85671e4",
   "metadata": {},
   "outputs": [
    {
     "name": "stdout",
     "output_type": "stream",
     "text": [
      "Welcome to the Band Name Generator.\n",
      "What is the name of the city you grew up?khammam\n",
      "What is your pet name?chiku\n",
      "Your band name could be:  khammam chiku\n"
     ]
    }
   ],
   "source": [
    "print('Welcome to the Band Name Generator.')\n",
    "city=input('What is the name of the city you grew up?')\n",
    "pet_name=input('What is your pet name?')\n",
    "band_name=city+' '+pet_name\n",
    "print('Your band name could be: ',band_name)"
   ]
  },
  {
   "cell_type": "code",
   "execution_count": null,
   "id": "d325f7c9",
   "metadata": {},
   "outputs": [],
   "source": []
  },
  {
   "cell_type": "code",
   "execution_count": null,
   "id": "4e5d86ad",
   "metadata": {},
   "outputs": [],
   "source": []
  }
 ],
 "metadata": {
  "kernelspec": {
   "display_name": "Python 3 (ipykernel)",
   "language": "python",
   "name": "python3"
  },
  "language_info": {
   "codemirror_mode": {
    "name": "ipython",
    "version": 3
   },
   "file_extension": ".py",
   "mimetype": "text/x-python",
   "name": "python",
   "nbconvert_exporter": "python",
   "pygments_lexer": "ipython3",
   "version": "3.11.5"
  }
 },
 "nbformat": 4,
 "nbformat_minor": 5
}
